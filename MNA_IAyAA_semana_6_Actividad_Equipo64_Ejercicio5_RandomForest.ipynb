{
  "nbformat": 4,
  "nbformat_minor": 0,
  "metadata": {
    "colab": {
      "provenance": [],
      "collapsed_sections": [],
      "include_colab_link": true
    },
    "kernelspec": {
      "display_name": "Python 3",
      "name": "python3"
    }
  },
  "cells": [
    {
      "cell_type": "markdown",
      "metadata": {
        "id": "view-in-github",
        "colab_type": "text"
      },
      "source": [
        "<a href=\"https://colab.research.google.com/github/djmerk66/IAyAA_Equipo_64/blob/main/MNA_IAyAA_semana_6_Actividad_Equipo64_Ejercicio5_RandomForest.ipynb\" target=\"_parent\"><img src=\"https://colab.research.google.com/assets/colab-badge.svg\" alt=\"Open In Colab\"/></a>"
      ]
    },
    {
      "cell_type": "markdown",
      "source": [
        "#**Maestría en Inteligencia Artificial Aplicada**\n",
        "##**Curso: Inteligencia Artificial y Aprendizaje Automático**\n",
        "###Tecnológico de Monterrey\n",
        "###Prof Luis Eduardo Falcón Morales\n",
        "\n",
        "## **Adtividad de la Semana 6**\n",
        "###**Árboles de decisión y bosque aleatorio.**\n"
      ],
      "metadata": {
        "id": "VFj0sSM06dYa"
      }
    },
    {
      "cell_type": "markdown",
      "source": [
        "**Nombres y matrículas de los integrantes del equipo:**\n",
        "\n",
        "*   Andres Javier Galindo Vargas - A01793927\n",
        "*   Diego Alberto Olarte Mira - A01794028\n",
        "*   Fredy Reyes Sanchez - A01687370\n",
        "*   Jose Antonio Saenz Ramirez - A01793884\n",
        "*   Roberto Vega Alanis - A01378921\n"
      ],
      "metadata": {
        "id": "Qgrvy0RGB9XI"
      }
    },
    {
      "cell_type": "markdown",
      "source": [
        "En cada sección deberás incluir todas las líneas de código necesarias para responder a cada uno de los ejercicios."
      ],
      "metadata": {
        "id": "FrJ2ahMODVj1"
      }
    },
    {
      "cell_type": "code",
      "source": [
        "# Incluye aquí todos módulos, librerías y paquetes que requieras.\n",
        "\n",
        "# Manipulación de datos\n",
        "import pandas as pd\n",
        "import numpy as np\n",
        "\n",
        "# Visualización\n",
        "import matplotlib.pyplot as plt \n",
        "import seaborn as sns \n",
        "\n",
        "# Para hacer las particiones\n",
        "from sklearn.model_selection import train_test_split\n",
        "\n",
        "# Objetos de orquestación\n",
        "from sklearn.pipeline import Pipeline\n",
        "from sklearn.compose import ColumnTransformer\n",
        "\n",
        "# Objectos de limpieza y preprocesamiento de datos\n",
        "from sklearn.impute import SimpleImputer\n",
        "from sklearn.preprocessing import MinMaxScaler, StandardScaler, OneHotEncoder, FunctionTransformer\n",
        "\n",
        "# Modelos a utilizar\n",
        "from sklearn.linear_model import LogisticRegression\n",
        "from sklearn.tree import DecisionTreeClassifier\n",
        "from sklearn.ensemble import RandomForestClassifier\n",
        "from sklearn.model_selection import GridSearchCV\n",
        "\n",
        "# Elementos para las métricas\n",
        "from sklearn.metrics import confusion_matrix         \n",
        "from sklearn.metrics import classification_report, make_scorer\n",
        "from sklearn.model_selection import  cross_validate,  RepeatedStratifiedKFold\n",
        "\n",
        "# Curvas de aprendizaje y validación\n",
        "from sklearn.model_selection import learning_curve, validation_curve\n",
        "\n",
        "import os"
      ],
      "metadata": {
        "id": "exXsscs-Dh-2"
      },
      "execution_count": 57,
      "outputs": []
    },
    {
      "cell_type": "markdown",
      "metadata": {
        "id": "X25brD-gQdZM"
      },
      "source": [
        "#**Ejercicio-1.** "
      ]
    },
    {
      "cell_type": "markdown",
      "source": [
        "1. Carga los datos y sustituye los nombres de las columnas del alemán al inglés de acuerdo a como\n",
        "se indica en la página de la UCI."
      ],
      "metadata": {
        "id": "cFetPm_V7x6f"
      }
    },
    {
      "cell_type": "code",
      "source": [
        "# se descargar el archivo del sitio  https://archive.ics.uci.edu/ml/machine-learning-databases/00522/\n",
        "# se sube a la ruta a repositorio GitHub del equipo y se hace la lectura del archivo.\n",
        "df= pd.read_csv('https://raw.githubusercontent.com/PosgradoMNA/IAyAA_Equipo_64/main/Actividad_Semana_6/Dataset/SouthGermanCredit.asc', sep='\\s+')\n",
        "df.head()"
      ],
      "metadata": {
        "id": "0ulkqXVGCy97",
        "colab": {
          "base_uri": "https://localhost:8080/",
          "height": 236
        },
        "outputId": "4ff6db1a-dafc-49bf-c5c3-071e7b3e4af4"
      },
      "execution_count": 25,
      "outputs": [
        {
          "output_type": "execute_result",
          "data": {
            "text/plain": [
              "   laufkont  laufzeit  moral  verw  hoehe  sparkont  beszeit  rate  famges  \\\n",
              "0         1        18      4     2   1049         1        2     4       2   \n",
              "1         1         9      4     0   2799         1        3     2       3   \n",
              "2         2        12      2     9    841         2        4     2       2   \n",
              "3         1        12      4     0   2122         1        3     3       3   \n",
              "4         1        12      4     0   2171         1        3     4       3   \n",
              "\n",
              "   buerge  ...  verm  alter  weitkred  wohn  bishkred  beruf  pers  telef  \\\n",
              "0       1  ...     2     21         3     1         1      3     2      1   \n",
              "1       1  ...     1     36         3     1         2      3     1      1   \n",
              "2       1  ...     1     23         3     1         1      2     2      1   \n",
              "3       1  ...     1     39         3     1         2      2     1      1   \n",
              "4       1  ...     2     38         1     2         2      2     2      1   \n",
              "\n",
              "   gastarb  kredit  \n",
              "0        2       1  \n",
              "1        2       1  \n",
              "2        2       1  \n",
              "3        1       1  \n",
              "4        1       1  \n",
              "\n",
              "[5 rows x 21 columns]"
            ],
            "text/html": [
              "\n",
              "  <div id=\"df-a92591c4-2422-4506-9c40-8690dc6a9b21\">\n",
              "    <div class=\"colab-df-container\">\n",
              "      <div>\n",
              "<style scoped>\n",
              "    .dataframe tbody tr th:only-of-type {\n",
              "        vertical-align: middle;\n",
              "    }\n",
              "\n",
              "    .dataframe tbody tr th {\n",
              "        vertical-align: top;\n",
              "    }\n",
              "\n",
              "    .dataframe thead th {\n",
              "        text-align: right;\n",
              "    }\n",
              "</style>\n",
              "<table border=\"1\" class=\"dataframe\">\n",
              "  <thead>\n",
              "    <tr style=\"text-align: right;\">\n",
              "      <th></th>\n",
              "      <th>laufkont</th>\n",
              "      <th>laufzeit</th>\n",
              "      <th>moral</th>\n",
              "      <th>verw</th>\n",
              "      <th>hoehe</th>\n",
              "      <th>sparkont</th>\n",
              "      <th>beszeit</th>\n",
              "      <th>rate</th>\n",
              "      <th>famges</th>\n",
              "      <th>buerge</th>\n",
              "      <th>...</th>\n",
              "      <th>verm</th>\n",
              "      <th>alter</th>\n",
              "      <th>weitkred</th>\n",
              "      <th>wohn</th>\n",
              "      <th>bishkred</th>\n",
              "      <th>beruf</th>\n",
              "      <th>pers</th>\n",
              "      <th>telef</th>\n",
              "      <th>gastarb</th>\n",
              "      <th>kredit</th>\n",
              "    </tr>\n",
              "  </thead>\n",
              "  <tbody>\n",
              "    <tr>\n",
              "      <th>0</th>\n",
              "      <td>1</td>\n",
              "      <td>18</td>\n",
              "      <td>4</td>\n",
              "      <td>2</td>\n",
              "      <td>1049</td>\n",
              "      <td>1</td>\n",
              "      <td>2</td>\n",
              "      <td>4</td>\n",
              "      <td>2</td>\n",
              "      <td>1</td>\n",
              "      <td>...</td>\n",
              "      <td>2</td>\n",
              "      <td>21</td>\n",
              "      <td>3</td>\n",
              "      <td>1</td>\n",
              "      <td>1</td>\n",
              "      <td>3</td>\n",
              "      <td>2</td>\n",
              "      <td>1</td>\n",
              "      <td>2</td>\n",
              "      <td>1</td>\n",
              "    </tr>\n",
              "    <tr>\n",
              "      <th>1</th>\n",
              "      <td>1</td>\n",
              "      <td>9</td>\n",
              "      <td>4</td>\n",
              "      <td>0</td>\n",
              "      <td>2799</td>\n",
              "      <td>1</td>\n",
              "      <td>3</td>\n",
              "      <td>2</td>\n",
              "      <td>3</td>\n",
              "      <td>1</td>\n",
              "      <td>...</td>\n",
              "      <td>1</td>\n",
              "      <td>36</td>\n",
              "      <td>3</td>\n",
              "      <td>1</td>\n",
              "      <td>2</td>\n",
              "      <td>3</td>\n",
              "      <td>1</td>\n",
              "      <td>1</td>\n",
              "      <td>2</td>\n",
              "      <td>1</td>\n",
              "    </tr>\n",
              "    <tr>\n",
              "      <th>2</th>\n",
              "      <td>2</td>\n",
              "      <td>12</td>\n",
              "      <td>2</td>\n",
              "      <td>9</td>\n",
              "      <td>841</td>\n",
              "      <td>2</td>\n",
              "      <td>4</td>\n",
              "      <td>2</td>\n",
              "      <td>2</td>\n",
              "      <td>1</td>\n",
              "      <td>...</td>\n",
              "      <td>1</td>\n",
              "      <td>23</td>\n",
              "      <td>3</td>\n",
              "      <td>1</td>\n",
              "      <td>1</td>\n",
              "      <td>2</td>\n",
              "      <td>2</td>\n",
              "      <td>1</td>\n",
              "      <td>2</td>\n",
              "      <td>1</td>\n",
              "    </tr>\n",
              "    <tr>\n",
              "      <th>3</th>\n",
              "      <td>1</td>\n",
              "      <td>12</td>\n",
              "      <td>4</td>\n",
              "      <td>0</td>\n",
              "      <td>2122</td>\n",
              "      <td>1</td>\n",
              "      <td>3</td>\n",
              "      <td>3</td>\n",
              "      <td>3</td>\n",
              "      <td>1</td>\n",
              "      <td>...</td>\n",
              "      <td>1</td>\n",
              "      <td>39</td>\n",
              "      <td>3</td>\n",
              "      <td>1</td>\n",
              "      <td>2</td>\n",
              "      <td>2</td>\n",
              "      <td>1</td>\n",
              "      <td>1</td>\n",
              "      <td>1</td>\n",
              "      <td>1</td>\n",
              "    </tr>\n",
              "    <tr>\n",
              "      <th>4</th>\n",
              "      <td>1</td>\n",
              "      <td>12</td>\n",
              "      <td>4</td>\n",
              "      <td>0</td>\n",
              "      <td>2171</td>\n",
              "      <td>1</td>\n",
              "      <td>3</td>\n",
              "      <td>4</td>\n",
              "      <td>3</td>\n",
              "      <td>1</td>\n",
              "      <td>...</td>\n",
              "      <td>2</td>\n",
              "      <td>38</td>\n",
              "      <td>1</td>\n",
              "      <td>2</td>\n",
              "      <td>2</td>\n",
              "      <td>2</td>\n",
              "      <td>2</td>\n",
              "      <td>1</td>\n",
              "      <td>1</td>\n",
              "      <td>1</td>\n",
              "    </tr>\n",
              "  </tbody>\n",
              "</table>\n",
              "<p>5 rows × 21 columns</p>\n",
              "</div>\n",
              "      <button class=\"colab-df-convert\" onclick=\"convertToInteractive('df-a92591c4-2422-4506-9c40-8690dc6a9b21')\"\n",
              "              title=\"Convert this dataframe to an interactive table.\"\n",
              "              style=\"display:none;\">\n",
              "        \n",
              "  <svg xmlns=\"http://www.w3.org/2000/svg\" height=\"24px\"viewBox=\"0 0 24 24\"\n",
              "       width=\"24px\">\n",
              "    <path d=\"M0 0h24v24H0V0z\" fill=\"none\"/>\n",
              "    <path d=\"M18.56 5.44l.94 2.06.94-2.06 2.06-.94-2.06-.94-.94-2.06-.94 2.06-2.06.94zm-11 1L8.5 8.5l.94-2.06 2.06-.94-2.06-.94L8.5 2.5l-.94 2.06-2.06.94zm10 10l.94 2.06.94-2.06 2.06-.94-2.06-.94-.94-2.06-.94 2.06-2.06.94z\"/><path d=\"M17.41 7.96l-1.37-1.37c-.4-.4-.92-.59-1.43-.59-.52 0-1.04.2-1.43.59L10.3 9.45l-7.72 7.72c-.78.78-.78 2.05 0 2.83L4 21.41c.39.39.9.59 1.41.59.51 0 1.02-.2 1.41-.59l7.78-7.78 2.81-2.81c.8-.78.8-2.07 0-2.86zM5.41 20L4 18.59l7.72-7.72 1.47 1.35L5.41 20z\"/>\n",
              "  </svg>\n",
              "      </button>\n",
              "      \n",
              "  <style>\n",
              "    .colab-df-container {\n",
              "      display:flex;\n",
              "      flex-wrap:wrap;\n",
              "      gap: 12px;\n",
              "    }\n",
              "\n",
              "    .colab-df-convert {\n",
              "      background-color: #E8F0FE;\n",
              "      border: none;\n",
              "      border-radius: 50%;\n",
              "      cursor: pointer;\n",
              "      display: none;\n",
              "      fill: #1967D2;\n",
              "      height: 32px;\n",
              "      padding: 0 0 0 0;\n",
              "      width: 32px;\n",
              "    }\n",
              "\n",
              "    .colab-df-convert:hover {\n",
              "      background-color: #E2EBFA;\n",
              "      box-shadow: 0px 1px 2px rgba(60, 64, 67, 0.3), 0px 1px 3px 1px rgba(60, 64, 67, 0.15);\n",
              "      fill: #174EA6;\n",
              "    }\n",
              "\n",
              "    [theme=dark] .colab-df-convert {\n",
              "      background-color: #3B4455;\n",
              "      fill: #D2E3FC;\n",
              "    }\n",
              "\n",
              "    [theme=dark] .colab-df-convert:hover {\n",
              "      background-color: #434B5C;\n",
              "      box-shadow: 0px 1px 3px 1px rgba(0, 0, 0, 0.15);\n",
              "      filter: drop-shadow(0px 1px 2px rgba(0, 0, 0, 0.3));\n",
              "      fill: #FFFFFF;\n",
              "    }\n",
              "  </style>\n",
              "\n",
              "      <script>\n",
              "        const buttonEl =\n",
              "          document.querySelector('#df-a92591c4-2422-4506-9c40-8690dc6a9b21 button.colab-df-convert');\n",
              "        buttonEl.style.display =\n",
              "          google.colab.kernel.accessAllowed ? 'block' : 'none';\n",
              "\n",
              "        async function convertToInteractive(key) {\n",
              "          const element = document.querySelector('#df-a92591c4-2422-4506-9c40-8690dc6a9b21');\n",
              "          const dataTable =\n",
              "            await google.colab.kernel.invokeFunction('convertToInteractive',\n",
              "                                                     [key], {});\n",
              "          if (!dataTable) return;\n",
              "\n",
              "          const docLinkHtml = 'Like what you see? Visit the ' +\n",
              "            '<a target=\"_blank\" href=https://colab.research.google.com/notebooks/data_table.ipynb>data table notebook</a>'\n",
              "            + ' to learn more about interactive tables.';\n",
              "          element.innerHTML = '';\n",
              "          dataTable['output_type'] = 'display_data';\n",
              "          await google.colab.output.renderOutput(dataTable, element);\n",
              "          const docLink = document.createElement('div');\n",
              "          docLink.innerHTML = docLinkHtml;\n",
              "          element.appendChild(docLink);\n",
              "        }\n",
              "      </script>\n",
              "    </div>\n",
              "  </div>\n",
              "  "
            ]
          },
          "metadata": {},
          "execution_count": 25
        }
      ]
    },
    {
      "cell_type": "code",
      "source": [
        "# realiza el cambio a los nombres de las columnas del dataframe df - Ingles\n",
        "df.rename(columns = {\n",
        "    'laufkont':'status',\n",
        "    'laufzeit':'duration',\n",
        "    'moral':'credit_history',\n",
        "    'verw':'purpose',\n",
        "    'hoehe':'amount',\n",
        "    'sparkont':'savings',\n",
        "    'beszeit':'employment_duration',\n",
        "    'rate':'installment_rate',\n",
        "    'famges':'personal_status_sex',\n",
        "    'buerge':'other_debtors',\n",
        "    'wohnzeit':'present_residence',\n",
        "    'verm':'property',\n",
        "    'alter':'age',\n",
        "    'weitkred':'other_installment_plans',\n",
        "    'wohn':'housing',\n",
        "    'bishkred':'number_credits',\n",
        "    'beruf':'job',\n",
        "    'pers':'people_liable',\n",
        "    'telef':'telephone',\n",
        "    'gastarb':'foreign_worker',\n",
        "    'kredit':'credit_risk'\n",
        "}, inplace = True)\n",
        "df.head()\n"
      ],
      "metadata": {
        "colab": {
          "base_uri": "https://localhost:8080/",
          "height": 299
        },
        "id": "39A3J3-v-S60",
        "outputId": "52441dee-9e7f-4ad0-9dde-5364ea05b107"
      },
      "execution_count": null,
      "outputs": [
        {
          "output_type": "execute_result",
          "data": {
            "text/plain": [
              "   status  duration  credit_history  purpose  amount  savings  \\\n",
              "0       1        18               4        2    1049        1   \n",
              "1       1         9               4        0    2799        1   \n",
              "2       2        12               2        9     841        2   \n",
              "3       1        12               4        0    2122        1   \n",
              "4       1        12               4        0    2171        1   \n",
              "\n",
              "   employment_duration  installment_rate  personal_status_sex  other_debtors  \\\n",
              "0                    2                 4                    2              1   \n",
              "1                    3                 2                    3              1   \n",
              "2                    4                 2                    2              1   \n",
              "3                    3                 3                    3              1   \n",
              "4                    3                 4                    3              1   \n",
              "\n",
              "   ...  property  age  other_installment_plans  housing  number_credits  job  \\\n",
              "0  ...         2   21                        3        1               1    3   \n",
              "1  ...         1   36                        3        1               2    3   \n",
              "2  ...         1   23                        3        1               1    2   \n",
              "3  ...         1   39                        3        1               2    2   \n",
              "4  ...         2   38                        1        2               2    2   \n",
              "\n",
              "   people_liable  telephone  foreign_worker  credit_risk  \n",
              "0              2          1               2            1  \n",
              "1              1          1               2            1  \n",
              "2              2          1               2            1  \n",
              "3              1          1               1            1  \n",
              "4              2          1               1            1  \n",
              "\n",
              "[5 rows x 21 columns]"
            ],
            "text/html": [
              "\n",
              "  <div id=\"df-6ec0c507-0267-4d55-9c54-6c670a3a7f15\">\n",
              "    <div class=\"colab-df-container\">\n",
              "      <div>\n",
              "<style scoped>\n",
              "    .dataframe tbody tr th:only-of-type {\n",
              "        vertical-align: middle;\n",
              "    }\n",
              "\n",
              "    .dataframe tbody tr th {\n",
              "        vertical-align: top;\n",
              "    }\n",
              "\n",
              "    .dataframe thead th {\n",
              "        text-align: right;\n",
              "    }\n",
              "</style>\n",
              "<table border=\"1\" class=\"dataframe\">\n",
              "  <thead>\n",
              "    <tr style=\"text-align: right;\">\n",
              "      <th></th>\n",
              "      <th>status</th>\n",
              "      <th>duration</th>\n",
              "      <th>credit_history</th>\n",
              "      <th>purpose</th>\n",
              "      <th>amount</th>\n",
              "      <th>savings</th>\n",
              "      <th>employment_duration</th>\n",
              "      <th>installment_rate</th>\n",
              "      <th>personal_status_sex</th>\n",
              "      <th>other_debtors</th>\n",
              "      <th>...</th>\n",
              "      <th>property</th>\n",
              "      <th>age</th>\n",
              "      <th>other_installment_plans</th>\n",
              "      <th>housing</th>\n",
              "      <th>number_credits</th>\n",
              "      <th>job</th>\n",
              "      <th>people_liable</th>\n",
              "      <th>telephone</th>\n",
              "      <th>foreign_worker</th>\n",
              "      <th>credit_risk</th>\n",
              "    </tr>\n",
              "  </thead>\n",
              "  <tbody>\n",
              "    <tr>\n",
              "      <th>0</th>\n",
              "      <td>1</td>\n",
              "      <td>18</td>\n",
              "      <td>4</td>\n",
              "      <td>2</td>\n",
              "      <td>1049</td>\n",
              "      <td>1</td>\n",
              "      <td>2</td>\n",
              "      <td>4</td>\n",
              "      <td>2</td>\n",
              "      <td>1</td>\n",
              "      <td>...</td>\n",
              "      <td>2</td>\n",
              "      <td>21</td>\n",
              "      <td>3</td>\n",
              "      <td>1</td>\n",
              "      <td>1</td>\n",
              "      <td>3</td>\n",
              "      <td>2</td>\n",
              "      <td>1</td>\n",
              "      <td>2</td>\n",
              "      <td>1</td>\n",
              "    </tr>\n",
              "    <tr>\n",
              "      <th>1</th>\n",
              "      <td>1</td>\n",
              "      <td>9</td>\n",
              "      <td>4</td>\n",
              "      <td>0</td>\n",
              "      <td>2799</td>\n",
              "      <td>1</td>\n",
              "      <td>3</td>\n",
              "      <td>2</td>\n",
              "      <td>3</td>\n",
              "      <td>1</td>\n",
              "      <td>...</td>\n",
              "      <td>1</td>\n",
              "      <td>36</td>\n",
              "      <td>3</td>\n",
              "      <td>1</td>\n",
              "      <td>2</td>\n",
              "      <td>3</td>\n",
              "      <td>1</td>\n",
              "      <td>1</td>\n",
              "      <td>2</td>\n",
              "      <td>1</td>\n",
              "    </tr>\n",
              "    <tr>\n",
              "      <th>2</th>\n",
              "      <td>2</td>\n",
              "      <td>12</td>\n",
              "      <td>2</td>\n",
              "      <td>9</td>\n",
              "      <td>841</td>\n",
              "      <td>2</td>\n",
              "      <td>4</td>\n",
              "      <td>2</td>\n",
              "      <td>2</td>\n",
              "      <td>1</td>\n",
              "      <td>...</td>\n",
              "      <td>1</td>\n",
              "      <td>23</td>\n",
              "      <td>3</td>\n",
              "      <td>1</td>\n",
              "      <td>1</td>\n",
              "      <td>2</td>\n",
              "      <td>2</td>\n",
              "      <td>1</td>\n",
              "      <td>2</td>\n",
              "      <td>1</td>\n",
              "    </tr>\n",
              "    <tr>\n",
              "      <th>3</th>\n",
              "      <td>1</td>\n",
              "      <td>12</td>\n",
              "      <td>4</td>\n",
              "      <td>0</td>\n",
              "      <td>2122</td>\n",
              "      <td>1</td>\n",
              "      <td>3</td>\n",
              "      <td>3</td>\n",
              "      <td>3</td>\n",
              "      <td>1</td>\n",
              "      <td>...</td>\n",
              "      <td>1</td>\n",
              "      <td>39</td>\n",
              "      <td>3</td>\n",
              "      <td>1</td>\n",
              "      <td>2</td>\n",
              "      <td>2</td>\n",
              "      <td>1</td>\n",
              "      <td>1</td>\n",
              "      <td>1</td>\n",
              "      <td>1</td>\n",
              "    </tr>\n",
              "    <tr>\n",
              "      <th>4</th>\n",
              "      <td>1</td>\n",
              "      <td>12</td>\n",
              "      <td>4</td>\n",
              "      <td>0</td>\n",
              "      <td>2171</td>\n",
              "      <td>1</td>\n",
              "      <td>3</td>\n",
              "      <td>4</td>\n",
              "      <td>3</td>\n",
              "      <td>1</td>\n",
              "      <td>...</td>\n",
              "      <td>2</td>\n",
              "      <td>38</td>\n",
              "      <td>1</td>\n",
              "      <td>2</td>\n",
              "      <td>2</td>\n",
              "      <td>2</td>\n",
              "      <td>2</td>\n",
              "      <td>1</td>\n",
              "      <td>1</td>\n",
              "      <td>1</td>\n",
              "    </tr>\n",
              "  </tbody>\n",
              "</table>\n",
              "<p>5 rows × 21 columns</p>\n",
              "</div>\n",
              "      <button class=\"colab-df-convert\" onclick=\"convertToInteractive('df-6ec0c507-0267-4d55-9c54-6c670a3a7f15')\"\n",
              "              title=\"Convert this dataframe to an interactive table.\"\n",
              "              style=\"display:none;\">\n",
              "        \n",
              "  <svg xmlns=\"http://www.w3.org/2000/svg\" height=\"24px\"viewBox=\"0 0 24 24\"\n",
              "       width=\"24px\">\n",
              "    <path d=\"M0 0h24v24H0V0z\" fill=\"none\"/>\n",
              "    <path d=\"M18.56 5.44l.94 2.06.94-2.06 2.06-.94-2.06-.94-.94-2.06-.94 2.06-2.06.94zm-11 1L8.5 8.5l.94-2.06 2.06-.94-2.06-.94L8.5 2.5l-.94 2.06-2.06.94zm10 10l.94 2.06.94-2.06 2.06-.94-2.06-.94-.94-2.06-.94 2.06-2.06.94z\"/><path d=\"M17.41 7.96l-1.37-1.37c-.4-.4-.92-.59-1.43-.59-.52 0-1.04.2-1.43.59L10.3 9.45l-7.72 7.72c-.78.78-.78 2.05 0 2.83L4 21.41c.39.39.9.59 1.41.59.51 0 1.02-.2 1.41-.59l7.78-7.78 2.81-2.81c.8-.78.8-2.07 0-2.86zM5.41 20L4 18.59l7.72-7.72 1.47 1.35L5.41 20z\"/>\n",
              "  </svg>\n",
              "      </button>\n",
              "      \n",
              "  <style>\n",
              "    .colab-df-container {\n",
              "      display:flex;\n",
              "      flex-wrap:wrap;\n",
              "      gap: 12px;\n",
              "    }\n",
              "\n",
              "    .colab-df-convert {\n",
              "      background-color: #E8F0FE;\n",
              "      border: none;\n",
              "      border-radius: 50%;\n",
              "      cursor: pointer;\n",
              "      display: none;\n",
              "      fill: #1967D2;\n",
              "      height: 32px;\n",
              "      padding: 0 0 0 0;\n",
              "      width: 32px;\n",
              "    }\n",
              "\n",
              "    .colab-df-convert:hover {\n",
              "      background-color: #E2EBFA;\n",
              "      box-shadow: 0px 1px 2px rgba(60, 64, 67, 0.3), 0px 1px 3px 1px rgba(60, 64, 67, 0.15);\n",
              "      fill: #174EA6;\n",
              "    }\n",
              "\n",
              "    [theme=dark] .colab-df-convert {\n",
              "      background-color: #3B4455;\n",
              "      fill: #D2E3FC;\n",
              "    }\n",
              "\n",
              "    [theme=dark] .colab-df-convert:hover {\n",
              "      background-color: #434B5C;\n",
              "      box-shadow: 0px 1px 3px 1px rgba(0, 0, 0, 0.15);\n",
              "      filter: drop-shadow(0px 1px 2px rgba(0, 0, 0, 0.3));\n",
              "      fill: #FFFFFF;\n",
              "    }\n",
              "  </style>\n",
              "\n",
              "      <script>\n",
              "        const buttonEl =\n",
              "          document.querySelector('#df-6ec0c507-0267-4d55-9c54-6c670a3a7f15 button.colab-df-convert');\n",
              "        buttonEl.style.display =\n",
              "          google.colab.kernel.accessAllowed ? 'block' : 'none';\n",
              "\n",
              "        async function convertToInteractive(key) {\n",
              "          const element = document.querySelector('#df-6ec0c507-0267-4d55-9c54-6c670a3a7f15');\n",
              "          const dataTable =\n",
              "            await google.colab.kernel.invokeFunction('convertToInteractive',\n",
              "                                                     [key], {});\n",
              "          if (!dataTable) return;\n",
              "\n",
              "          const docLinkHtml = 'Like what you see? Visit the ' +\n",
              "            '<a target=\"_blank\" href=https://colab.research.google.com/notebooks/data_table.ipynb>data table notebook</a>'\n",
              "            + ' to learn more about interactive tables.';\n",
              "          element.innerHTML = '';\n",
              "          dataTable['output_type'] = 'display_data';\n",
              "          await google.colab.output.renderOutput(dataTable, element);\n",
              "          const docLink = document.createElement('div');\n",
              "          docLink.innerHTML = docLinkHtml;\n",
              "          element.appendChild(docLink);\n",
              "        }\n",
              "      </script>\n",
              "    </div>\n",
              "  </div>\n",
              "  "
            ]
          },
          "metadata": {},
          "execution_count": 3
        }
      ]
    },
    {
      "cell_type": "markdown",
      "source": [
        "#**Ejercicio-2.**"
      ],
      "metadata": {
        "id": "xZhr2hkECzVv"
      }
    },
    {
      "cell_type": "markdown",
      "source": [
        "2. Realiza una partición de los datos en el conjunto de entrenamiento del 85% y el de prueba de\n",
        "15%. Los modelos se estarán entrenando con el método de validación cruzada, así que no es\n",
        "necesario en este paso generar el conjunto de validación. Define como la variable X a todas las\n",
        "variables de entrada y a la variable Y como la variable de salida."
      ],
      "metadata": {
        "id": "KM1XIoBT--uF"
      }
    },
    {
      "cell_type": "code",
      "source": [
        "# creacion de los conjunto de datos entrenamiento y pruba\n",
        "\n",
        "# Valores en X\n",
        "X = df.iloc[:,0:20]\n",
        "# Valores en Y valor objetivo\n",
        "y = df.iloc[:, -1]\n",
        "\n",
        "# Datos de validación, función trains_test_split\n",
        "X_train, X_val, y_train, y_val = train_test_split(X, y, train_size=0.85, random_state=10)"
      ],
      "metadata": {
        "id": "kGfAoOPkC1PP"
      },
      "execution_count": null,
      "outputs": []
    },
    {
      "cell_type": "code",
      "source": [
        "# Valores X\n",
        "X_train.head()\n"
      ],
      "metadata": {
        "id": "GOydw5OGC1MJ",
        "colab": {
          "base_uri": "https://localhost:8080/",
          "height": 270
        },
        "outputId": "e7326abd-f9e2-4c5a-ccd7-1a217c619a12"
      },
      "execution_count": null,
      "outputs": [
        {
          "output_type": "execute_result",
          "data": {
            "text/plain": [
              "     status  duration  credit_history  purpose  amount  savings  \\\n",
              "548       2        12               2        0    1007        4   \n",
              "335       1        24               2        2    1747        1   \n",
              "793       1        12               2        6     795        1   \n",
              "848       2        36               2        3    2671        2   \n",
              "295       4        36               2        1    8133        1   \n",
              "\n",
              "     employment_duration  installment_rate  personal_status_sex  \\\n",
              "548                    3                 4                    4   \n",
              "335                    2                 4                    3   \n",
              "793                    2                 4                    2   \n",
              "848                    3                 4                    2   \n",
              "295                    3                 1                    2   \n",
              "\n",
              "     other_debtors  present_residence  property  age  other_installment_plans  \\\n",
              "548              1                  1         1   22                        3   \n",
              "335              2                  1         2   24                        3   \n",
              "793              1                  4         2   53                        3   \n",
              "848              2                  4         4   50                        3   \n",
              "295              1                  2         2   30                        1   \n",
              "\n",
              "     housing  number_credits  job  people_liable  telephone  foreign_worker  \n",
              "548        2               1    3              2          1               2  \n",
              "335        2               1    2              2          1               1  \n",
              "793        2               1    3              2          1               2  \n",
              "848        3               1    3              2          1               2  \n",
              "295        2               1    3              2          1               2  "
            ],
            "text/html": [
              "\n",
              "  <div id=\"df-de4e5b42-c2ed-4b78-888d-ea4d765ae5d6\">\n",
              "    <div class=\"colab-df-container\">\n",
              "      <div>\n",
              "<style scoped>\n",
              "    .dataframe tbody tr th:only-of-type {\n",
              "        vertical-align: middle;\n",
              "    }\n",
              "\n",
              "    .dataframe tbody tr th {\n",
              "        vertical-align: top;\n",
              "    }\n",
              "\n",
              "    .dataframe thead th {\n",
              "        text-align: right;\n",
              "    }\n",
              "</style>\n",
              "<table border=\"1\" class=\"dataframe\">\n",
              "  <thead>\n",
              "    <tr style=\"text-align: right;\">\n",
              "      <th></th>\n",
              "      <th>status</th>\n",
              "      <th>duration</th>\n",
              "      <th>credit_history</th>\n",
              "      <th>purpose</th>\n",
              "      <th>amount</th>\n",
              "      <th>savings</th>\n",
              "      <th>employment_duration</th>\n",
              "      <th>installment_rate</th>\n",
              "      <th>personal_status_sex</th>\n",
              "      <th>other_debtors</th>\n",
              "      <th>present_residence</th>\n",
              "      <th>property</th>\n",
              "      <th>age</th>\n",
              "      <th>other_installment_plans</th>\n",
              "      <th>housing</th>\n",
              "      <th>number_credits</th>\n",
              "      <th>job</th>\n",
              "      <th>people_liable</th>\n",
              "      <th>telephone</th>\n",
              "      <th>foreign_worker</th>\n",
              "    </tr>\n",
              "  </thead>\n",
              "  <tbody>\n",
              "    <tr>\n",
              "      <th>548</th>\n",
              "      <td>2</td>\n",
              "      <td>12</td>\n",
              "      <td>2</td>\n",
              "      <td>0</td>\n",
              "      <td>1007</td>\n",
              "      <td>4</td>\n",
              "      <td>3</td>\n",
              "      <td>4</td>\n",
              "      <td>4</td>\n",
              "      <td>1</td>\n",
              "      <td>1</td>\n",
              "      <td>1</td>\n",
              "      <td>22</td>\n",
              "      <td>3</td>\n",
              "      <td>2</td>\n",
              "      <td>1</td>\n",
              "      <td>3</td>\n",
              "      <td>2</td>\n",
              "      <td>1</td>\n",
              "      <td>2</td>\n",
              "    </tr>\n",
              "    <tr>\n",
              "      <th>335</th>\n",
              "      <td>1</td>\n",
              "      <td>24</td>\n",
              "      <td>2</td>\n",
              "      <td>2</td>\n",
              "      <td>1747</td>\n",
              "      <td>1</td>\n",
              "      <td>2</td>\n",
              "      <td>4</td>\n",
              "      <td>3</td>\n",
              "      <td>2</td>\n",
              "      <td>1</td>\n",
              "      <td>2</td>\n",
              "      <td>24</td>\n",
              "      <td>3</td>\n",
              "      <td>2</td>\n",
              "      <td>1</td>\n",
              "      <td>2</td>\n",
              "      <td>2</td>\n",
              "      <td>1</td>\n",
              "      <td>1</td>\n",
              "    </tr>\n",
              "    <tr>\n",
              "      <th>793</th>\n",
              "      <td>1</td>\n",
              "      <td>12</td>\n",
              "      <td>2</td>\n",
              "      <td>6</td>\n",
              "      <td>795</td>\n",
              "      <td>1</td>\n",
              "      <td>2</td>\n",
              "      <td>4</td>\n",
              "      <td>2</td>\n",
              "      <td>1</td>\n",
              "      <td>4</td>\n",
              "      <td>2</td>\n",
              "      <td>53</td>\n",
              "      <td>3</td>\n",
              "      <td>2</td>\n",
              "      <td>1</td>\n",
              "      <td>3</td>\n",
              "      <td>2</td>\n",
              "      <td>1</td>\n",
              "      <td>2</td>\n",
              "    </tr>\n",
              "    <tr>\n",
              "      <th>848</th>\n",
              "      <td>2</td>\n",
              "      <td>36</td>\n",
              "      <td>2</td>\n",
              "      <td>3</td>\n",
              "      <td>2671</td>\n",
              "      <td>2</td>\n",
              "      <td>3</td>\n",
              "      <td>4</td>\n",
              "      <td>2</td>\n",
              "      <td>2</td>\n",
              "      <td>4</td>\n",
              "      <td>4</td>\n",
              "      <td>50</td>\n",
              "      <td>3</td>\n",
              "      <td>3</td>\n",
              "      <td>1</td>\n",
              "      <td>3</td>\n",
              "      <td>2</td>\n",
              "      <td>1</td>\n",
              "      <td>2</td>\n",
              "    </tr>\n",
              "    <tr>\n",
              "      <th>295</th>\n",
              "      <td>4</td>\n",
              "      <td>36</td>\n",
              "      <td>2</td>\n",
              "      <td>1</td>\n",
              "      <td>8133</td>\n",
              "      <td>1</td>\n",
              "      <td>3</td>\n",
              "      <td>1</td>\n",
              "      <td>2</td>\n",
              "      <td>1</td>\n",
              "      <td>2</td>\n",
              "      <td>2</td>\n",
              "      <td>30</td>\n",
              "      <td>1</td>\n",
              "      <td>2</td>\n",
              "      <td>1</td>\n",
              "      <td>3</td>\n",
              "      <td>2</td>\n",
              "      <td>1</td>\n",
              "      <td>2</td>\n",
              "    </tr>\n",
              "  </tbody>\n",
              "</table>\n",
              "</div>\n",
              "      <button class=\"colab-df-convert\" onclick=\"convertToInteractive('df-de4e5b42-c2ed-4b78-888d-ea4d765ae5d6')\"\n",
              "              title=\"Convert this dataframe to an interactive table.\"\n",
              "              style=\"display:none;\">\n",
              "        \n",
              "  <svg xmlns=\"http://www.w3.org/2000/svg\" height=\"24px\"viewBox=\"0 0 24 24\"\n",
              "       width=\"24px\">\n",
              "    <path d=\"M0 0h24v24H0V0z\" fill=\"none\"/>\n",
              "    <path d=\"M18.56 5.44l.94 2.06.94-2.06 2.06-.94-2.06-.94-.94-2.06-.94 2.06-2.06.94zm-11 1L8.5 8.5l.94-2.06 2.06-.94-2.06-.94L8.5 2.5l-.94 2.06-2.06.94zm10 10l.94 2.06.94-2.06 2.06-.94-2.06-.94-.94-2.06-.94 2.06-2.06.94z\"/><path d=\"M17.41 7.96l-1.37-1.37c-.4-.4-.92-.59-1.43-.59-.52 0-1.04.2-1.43.59L10.3 9.45l-7.72 7.72c-.78.78-.78 2.05 0 2.83L4 21.41c.39.39.9.59 1.41.59.51 0 1.02-.2 1.41-.59l7.78-7.78 2.81-2.81c.8-.78.8-2.07 0-2.86zM5.41 20L4 18.59l7.72-7.72 1.47 1.35L5.41 20z\"/>\n",
              "  </svg>\n",
              "      </button>\n",
              "      \n",
              "  <style>\n",
              "    .colab-df-container {\n",
              "      display:flex;\n",
              "      flex-wrap:wrap;\n",
              "      gap: 12px;\n",
              "    }\n",
              "\n",
              "    .colab-df-convert {\n",
              "      background-color: #E8F0FE;\n",
              "      border: none;\n",
              "      border-radius: 50%;\n",
              "      cursor: pointer;\n",
              "      display: none;\n",
              "      fill: #1967D2;\n",
              "      height: 32px;\n",
              "      padding: 0 0 0 0;\n",
              "      width: 32px;\n",
              "    }\n",
              "\n",
              "    .colab-df-convert:hover {\n",
              "      background-color: #E2EBFA;\n",
              "      box-shadow: 0px 1px 2px rgba(60, 64, 67, 0.3), 0px 1px 3px 1px rgba(60, 64, 67, 0.15);\n",
              "      fill: #174EA6;\n",
              "    }\n",
              "\n",
              "    [theme=dark] .colab-df-convert {\n",
              "      background-color: #3B4455;\n",
              "      fill: #D2E3FC;\n",
              "    }\n",
              "\n",
              "    [theme=dark] .colab-df-convert:hover {\n",
              "      background-color: #434B5C;\n",
              "      box-shadow: 0px 1px 3px 1px rgba(0, 0, 0, 0.15);\n",
              "      filter: drop-shadow(0px 1px 2px rgba(0, 0, 0, 0.3));\n",
              "      fill: #FFFFFF;\n",
              "    }\n",
              "  </style>\n",
              "\n",
              "      <script>\n",
              "        const buttonEl =\n",
              "          document.querySelector('#df-de4e5b42-c2ed-4b78-888d-ea4d765ae5d6 button.colab-df-convert');\n",
              "        buttonEl.style.display =\n",
              "          google.colab.kernel.accessAllowed ? 'block' : 'none';\n",
              "\n",
              "        async function convertToInteractive(key) {\n",
              "          const element = document.querySelector('#df-de4e5b42-c2ed-4b78-888d-ea4d765ae5d6');\n",
              "          const dataTable =\n",
              "            await google.colab.kernel.invokeFunction('convertToInteractive',\n",
              "                                                     [key], {});\n",
              "          if (!dataTable) return;\n",
              "\n",
              "          const docLinkHtml = 'Like what you see? Visit the ' +\n",
              "            '<a target=\"_blank\" href=https://colab.research.google.com/notebooks/data_table.ipynb>data table notebook</a>'\n",
              "            + ' to learn more about interactive tables.';\n",
              "          element.innerHTML = '';\n",
              "          dataTable['output_type'] = 'display_data';\n",
              "          await google.colab.output.renderOutput(dataTable, element);\n",
              "          const docLink = document.createElement('div');\n",
              "          docLink.innerHTML = docLinkHtml;\n",
              "          element.appendChild(docLink);\n",
              "        }\n",
              "      </script>\n",
              "    </div>\n",
              "  </div>\n",
              "  "
            ]
          },
          "metadata": {},
          "execution_count": 52
        }
      ]
    },
    {
      "cell_type": "code",
      "source": [
        "# Valores y\n",
        "y_train.head()"
      ],
      "metadata": {
        "colab": {
          "base_uri": "https://localhost:8080/"
        },
        "id": "mfbu_c9GCgNh",
        "outputId": "2ebce8d2-215d-4338-e690-ac2ef7bc8e07"
      },
      "execution_count": null,
      "outputs": [
        {
          "output_type": "execute_result",
          "data": {
            "text/plain": [
              "548    1\n",
              "335    1\n",
              "793    0\n",
              "848    0\n",
              "295    1\n",
              "Name: credit_risk, dtype: int64"
            ]
          },
          "metadata": {},
          "execution_count": 53
        }
      ]
    },
    {
      "cell_type": "code",
      "source": [
        "# verificacion del dataframe\n",
        "df.columns"
      ],
      "metadata": {
        "colab": {
          "base_uri": "https://localhost:8080/"
        },
        "id": "tSckAmCZCsWV",
        "outputId": "8cdb4c2b-9f0c-45ba-9bf4-183bbe8db185"
      },
      "execution_count": null,
      "outputs": [
        {
          "output_type": "execute_result",
          "data": {
            "text/plain": [
              "Index(['status', 'duration', 'credit_history', 'purpose', 'amount', 'savings',\n",
              "       'employment_duration', 'installment_rate', 'personal_status_sex',\n",
              "       'other_debtors', 'present_residence', 'property', 'age',\n",
              "       'other_installment_plans', 'housing', 'number_credits', 'job',\n",
              "       'people_liable', 'telephone', 'foreign_worker', 'credit_risk'],\n",
              "      dtype='object')"
            ]
          },
          "metadata": {},
          "execution_count": 54
        }
      ]
    },
    {
      "cell_type": "markdown",
      "source": [
        "#**Ejercicio-3.**"
      ],
      "metadata": {
        "id": "NCunuooTC2W3"
      }
    },
    {
      "cell_type": "markdown",
      "source": [
        "Como una primera aproximación (baseline) realizarás las siguientes transformaciones mínimas\n",
        "para generar los primeros modelos. En la misma página de la UCI se indica el tipo de variable de\n",
        "cada uno de los factores. Definen cuatro tipo de variables: categórica (categorical), ordinal\n",
        "(discretized quantitative), numérica (quantitative) y binaria (binary). Con base a dicha\n",
        "información realiza un Pipeline que incluya al menos las siguientes transformaciones:\n",
        "* Imputación a todas las variables de entrada, diferenciando entre el tipo de cada variable\n",
        "(decide y justifica que tipo de imputación realizas en cada caso).\n",
        "*  Realiza un análisis de las variables numéricas (quantitative) de entrada y aplica una\n",
        "transformación que escale a todas ellas en un rango equiparable.\n",
        "* Aplica la transformación One-Hot encoding a las variables de entrada de tipo categórico y\n",
        "binaria. En particular, justifica por qué una variable binaria requeriría que se le aplique la\n",
        "transformación one-hot encoding. Por el momento dejar las variables ordinales sin\n",
        "transformar."
      ],
      "metadata": {
        "id": "xw3W84u5DdXX"
      }
    },
    {
      "cell_type": "code",
      "source": [
        "# categorización de variables\n",
        "categorical = ['status','credit_history','purpose','savings','personal_status_sex','other_debtors','property','other_installment_plans','housing']\n",
        "discretized_numerical = ['employment_duration', 'installment_rate','present_residence','number_credits','job']\n",
        "binary = ['people_liable','telephone','foreign_worker']\n",
        "numeric = ['duration','amount','age']\n",
        "\n",
        "\n",
        "# status -- >  discretized_numerical\n",
        "# savings --> discretized_numerical\n",
        "\n",
        "\n",
        "# personal_status_sex` --> transform ?\n"
      ],
      "metadata": {
        "id": "cKwxtjc4KqTG"
      },
      "execution_count": 26,
      "outputs": []
    },
    {
      "cell_type": "markdown",
      "source": [
        "Análisis de valores numéricos"
      ],
      "metadata": {
        "id": "2LcXY0OVCu0b"
      }
    },
    {
      "cell_type": "code",
      "source": [
        "df[numeric].describe()"
      ],
      "metadata": {
        "colab": {
          "base_uri": "https://localhost:8080/",
          "height": 300
        },
        "id": "pSLKpTlkCx08",
        "outputId": "42cffd05-94fe-4ec0-d980-0f94d2f38012"
      },
      "execution_count": null,
      "outputs": [
        {
          "output_type": "execute_result",
          "data": {
            "text/plain": [
              "          duration       amount         age\n",
              "count  1000.000000   1000.00000  1000.00000\n",
              "mean     20.903000   3271.24800    35.54200\n",
              "std      12.058814   2822.75176    11.35267\n",
              "min       4.000000    250.00000    19.00000\n",
              "25%      12.000000   1365.50000    27.00000\n",
              "50%      18.000000   2319.50000    33.00000\n",
              "75%      24.000000   3972.25000    42.00000\n",
              "max      72.000000  18424.00000    75.00000"
            ],
            "text/html": [
              "\n",
              "  <div id=\"df-b489ce59-73b7-4362-8065-850dc7249385\">\n",
              "    <div class=\"colab-df-container\">\n",
              "      <div>\n",
              "<style scoped>\n",
              "    .dataframe tbody tr th:only-of-type {\n",
              "        vertical-align: middle;\n",
              "    }\n",
              "\n",
              "    .dataframe tbody tr th {\n",
              "        vertical-align: top;\n",
              "    }\n",
              "\n",
              "    .dataframe thead th {\n",
              "        text-align: right;\n",
              "    }\n",
              "</style>\n",
              "<table border=\"1\" class=\"dataframe\">\n",
              "  <thead>\n",
              "    <tr style=\"text-align: right;\">\n",
              "      <th></th>\n",
              "      <th>duration</th>\n",
              "      <th>amount</th>\n",
              "      <th>age</th>\n",
              "    </tr>\n",
              "  </thead>\n",
              "  <tbody>\n",
              "    <tr>\n",
              "      <th>count</th>\n",
              "      <td>1000.000000</td>\n",
              "      <td>1000.00000</td>\n",
              "      <td>1000.00000</td>\n",
              "    </tr>\n",
              "    <tr>\n",
              "      <th>mean</th>\n",
              "      <td>20.903000</td>\n",
              "      <td>3271.24800</td>\n",
              "      <td>35.54200</td>\n",
              "    </tr>\n",
              "    <tr>\n",
              "      <th>std</th>\n",
              "      <td>12.058814</td>\n",
              "      <td>2822.75176</td>\n",
              "      <td>11.35267</td>\n",
              "    </tr>\n",
              "    <tr>\n",
              "      <th>min</th>\n",
              "      <td>4.000000</td>\n",
              "      <td>250.00000</td>\n",
              "      <td>19.00000</td>\n",
              "    </tr>\n",
              "    <tr>\n",
              "      <th>25%</th>\n",
              "      <td>12.000000</td>\n",
              "      <td>1365.50000</td>\n",
              "      <td>27.00000</td>\n",
              "    </tr>\n",
              "    <tr>\n",
              "      <th>50%</th>\n",
              "      <td>18.000000</td>\n",
              "      <td>2319.50000</td>\n",
              "      <td>33.00000</td>\n",
              "    </tr>\n",
              "    <tr>\n",
              "      <th>75%</th>\n",
              "      <td>24.000000</td>\n",
              "      <td>3972.25000</td>\n",
              "      <td>42.00000</td>\n",
              "    </tr>\n",
              "    <tr>\n",
              "      <th>max</th>\n",
              "      <td>72.000000</td>\n",
              "      <td>18424.00000</td>\n",
              "      <td>75.00000</td>\n",
              "    </tr>\n",
              "  </tbody>\n",
              "</table>\n",
              "</div>\n",
              "      <button class=\"colab-df-convert\" onclick=\"convertToInteractive('df-b489ce59-73b7-4362-8065-850dc7249385')\"\n",
              "              title=\"Convert this dataframe to an interactive table.\"\n",
              "              style=\"display:none;\">\n",
              "        \n",
              "  <svg xmlns=\"http://www.w3.org/2000/svg\" height=\"24px\"viewBox=\"0 0 24 24\"\n",
              "       width=\"24px\">\n",
              "    <path d=\"M0 0h24v24H0V0z\" fill=\"none\"/>\n",
              "    <path d=\"M18.56 5.44l.94 2.06.94-2.06 2.06-.94-2.06-.94-.94-2.06-.94 2.06-2.06.94zm-11 1L8.5 8.5l.94-2.06 2.06-.94-2.06-.94L8.5 2.5l-.94 2.06-2.06.94zm10 10l.94 2.06.94-2.06 2.06-.94-2.06-.94-.94-2.06-.94 2.06-2.06.94z\"/><path d=\"M17.41 7.96l-1.37-1.37c-.4-.4-.92-.59-1.43-.59-.52 0-1.04.2-1.43.59L10.3 9.45l-7.72 7.72c-.78.78-.78 2.05 0 2.83L4 21.41c.39.39.9.59 1.41.59.51 0 1.02-.2 1.41-.59l7.78-7.78 2.81-2.81c.8-.78.8-2.07 0-2.86zM5.41 20L4 18.59l7.72-7.72 1.47 1.35L5.41 20z\"/>\n",
              "  </svg>\n",
              "      </button>\n",
              "      \n",
              "  <style>\n",
              "    .colab-df-container {\n",
              "      display:flex;\n",
              "      flex-wrap:wrap;\n",
              "      gap: 12px;\n",
              "    }\n",
              "\n",
              "    .colab-df-convert {\n",
              "      background-color: #E8F0FE;\n",
              "      border: none;\n",
              "      border-radius: 50%;\n",
              "      cursor: pointer;\n",
              "      display: none;\n",
              "      fill: #1967D2;\n",
              "      height: 32px;\n",
              "      padding: 0 0 0 0;\n",
              "      width: 32px;\n",
              "    }\n",
              "\n",
              "    .colab-df-convert:hover {\n",
              "      background-color: #E2EBFA;\n",
              "      box-shadow: 0px 1px 2px rgba(60, 64, 67, 0.3), 0px 1px 3px 1px rgba(60, 64, 67, 0.15);\n",
              "      fill: #174EA6;\n",
              "    }\n",
              "\n",
              "    [theme=dark] .colab-df-convert {\n",
              "      background-color: #3B4455;\n",
              "      fill: #D2E3FC;\n",
              "    }\n",
              "\n",
              "    [theme=dark] .colab-df-convert:hover {\n",
              "      background-color: #434B5C;\n",
              "      box-shadow: 0px 1px 3px 1px rgba(0, 0, 0, 0.15);\n",
              "      filter: drop-shadow(0px 1px 2px rgba(0, 0, 0, 0.3));\n",
              "      fill: #FFFFFF;\n",
              "    }\n",
              "  </style>\n",
              "\n",
              "      <script>\n",
              "        const buttonEl =\n",
              "          document.querySelector('#df-b489ce59-73b7-4362-8065-850dc7249385 button.colab-df-convert');\n",
              "        buttonEl.style.display =\n",
              "          google.colab.kernel.accessAllowed ? 'block' : 'none';\n",
              "\n",
              "        async function convertToInteractive(key) {\n",
              "          const element = document.querySelector('#df-b489ce59-73b7-4362-8065-850dc7249385');\n",
              "          const dataTable =\n",
              "            await google.colab.kernel.invokeFunction('convertToInteractive',\n",
              "                                                     [key], {});\n",
              "          if (!dataTable) return;\n",
              "\n",
              "          const docLinkHtml = 'Like what you see? Visit the ' +\n",
              "            '<a target=\"_blank\" href=https://colab.research.google.com/notebooks/data_table.ipynb>data table notebook</a>'\n",
              "            + ' to learn more about interactive tables.';\n",
              "          element.innerHTML = '';\n",
              "          dataTable['output_type'] = 'display_data';\n",
              "          await google.colab.output.renderOutput(dataTable, element);\n",
              "          const docLink = document.createElement('div');\n",
              "          docLink.innerHTML = docLinkHtml;\n",
              "          element.appendChild(docLink);\n",
              "        }\n",
              "      </script>\n",
              "    </div>\n",
              "  </div>\n",
              "  "
            ]
          },
          "metadata": {},
          "execution_count": 9
        }
      ]
    },
    {
      "cell_type": "markdown",
      "source": [
        "Podemos observar una diferencia muy grande entre los rangos de los distintos campos numéicos, por lo tanto, para evitar una influencia desigual de los coasionada por la diferentes unidades de medida de cada uno, es necesario escalar dichos atributos."
      ],
      "metadata": {
        "id": "w2OhXcESDEf3"
      }
    },
    {
      "cell_type": "code",
      "source": [
        "# Transformaciones a factores numéricos de entrada:\n",
        "num_pipeline = Pipeline(steps = [('impMediana', SimpleImputer(strategy='median')),\n",
        "                                 ('escalaNum', MinMaxScaler(feature_range=(1,2)))])   \n",
        "num_pipeline_nombres = numeric\n",
        "\n",
        "# Transformaciones a factores categóricos de entrada:\n",
        "catImp_pipeline = Pipeline(steps = [('impModa', SimpleImputer(strategy='most_frequent'))])  \n",
        "catImp_pipeline_nombres = categorical + discretized_numerical + binary\n",
        "\n",
        "catOHE_pipeline = Pipeline(steps = [('OneHotE', OneHotEncoder(drop='first'))])\n",
        "catOHE_pipeline_nombres = categorical + binary\n",
        "\n",
        "\n",
        "# Conjuntamos las transformaciones numéricas y categóricas que se estarán aplicando a los datos de entrada:\n",
        "columnasTransformer = ColumnTransformer(transformers = [('numpipe', num_pipeline, num_pipeline_nombres),\n",
        "                                                        ('catimp', catImp_pipeline, catImp_pipeline_nombres),\n",
        "                                                        ('catohe', catOHE_pipeline, catOHE_pipeline_nombres)],\n",
        "                                                        remainder='passthrough')"
      ],
      "metadata": {
        "id": "YXlcSWA-C4Dj"
      },
      "execution_count": 27,
      "outputs": []
    },
    {
      "cell_type": "markdown",
      "source": [
        "Justificación:\n",
        "+ Se realiza una imputación de la media de cada columna que contiene valores numéricos ya que así se evita que se genere un sesgo en la distribución original de los datos.\n",
        "+ Se realiza una imputación de la media de cada columna que contiene valores categóricos y binarios ya que es el valor que afectaría menos la distribución de los datos sin generar sesgos notables en valores que no son inherentemente numéricos.\n",
        "+ Se realiza OneHotENcoding con el fin de evitar una jerarquización de los valores binarios, es decir, con el fin de evitar que una clase tenga mayor valor (influencia) sobre la otra por la magnitud del valor numérico asignado."
      ],
      "metadata": {
        "id": "ZUmkemrnoNdq"
      }
    },
    {
      "cell_type": "markdown",
      "source": [
        "#**Ejercicio-4.**"
      ],
      "metadata": {
        "id": "chqk9jIDC5Pq"
      }
    },
    {
      "cell_type": "markdown",
      "source": [
        "## Funciones de score"
      ],
      "metadata": {
        "id": "Dx7MqrK8q4sv"
      }
    },
    {
      "cell_type": "code",
      "source": [
        "def mi_accuracy(y_real,y_pred):\n",
        "  cm = confusion_matrix(y_real,y_pred)\n",
        "  a = (cm[0,0]+cm[1,1])/(cm.sum())\n",
        "  return a"
      ],
      "metadata": {
        "id": "92diWzNKq6iL"
      },
      "execution_count": 28,
      "outputs": []
    },
    {
      "cell_type": "code",
      "source": [
        "def mi_precision(y_real,y_pred):\n",
        "  cm = confusion_matrix(y_real,y_pred)\n",
        "  p = cm[1,1]/(cm[1,1]+cm[0,1])\n",
        "  return p"
      ],
      "metadata": {
        "id": "johuKUT3wSX5"
      },
      "execution_count": 29,
      "outputs": []
    },
    {
      "cell_type": "code",
      "source": [
        "def mi_recall(y_real,y_pred):\n",
        "  cm = confusion_matrix(y_real,y_pred)\n",
        "  r = cm[1,1]/(cm[1,1]+cm[1,0])\n",
        "  return r"
      ],
      "metadata": {
        "id": "EOUlZDfuq6xd"
      },
      "execution_count": 30,
      "outputs": []
    },
    {
      "cell_type": "code",
      "source": [
        "def mi_f1_score(y_real,y_pred):\n",
        "  cm = confusion_matrix(y_real,y_pred)\n",
        "  f1 = 2*cm[1,1]/(2*cm[1,1]+cm[0,1]+cm[1,0])\n",
        "  return f1"
      ],
      "metadata": {
        "id": "GDk_1Hg8q7Jm"
      },
      "execution_count": 31,
      "outputs": []
    },
    {
      "cell_type": "code",
      "source": [
        "def mi_gmean(y_real,y_pred):\n",
        "  cm = confusion_matrix(y_real,y_pred)\n",
        "  r = cm[1,1]/(cm[1,1]+cm[1,0])\n",
        "  e = cm[0,0]/(cm[0,0]+cm[0,1])\n",
        "  g = (r*e)**(1/2)\n",
        "  return g"
      ],
      "metadata": {
        "id": "17yeYW_sq7Zv"
      },
      "execution_count": 32,
      "outputs": []
    },
    {
      "cell_type": "markdown",
      "source": [
        "## Lista de modelos"
      ],
      "metadata": {
        "id": "xBNEbkwR3dPN"
      }
    },
    {
      "cell_type": "code",
      "source": [
        "def get_models():\n",
        "  modelos = list()\n",
        "  nombres = list()\n",
        "\n",
        "  # LR - Regresión Logística:\n",
        "  modelos.append(LogisticRegression())\n",
        "  nombres.append('Regresión Logística')\n",
        "\n",
        "  # DT - Árbol de Decisión:\n",
        "  modelos.append(DecisionTreeClassifier())\n",
        "  nombres.append('Árbol de Decisión')\n",
        "  \n",
        "  # RF - Árbol de Decisión:\n",
        "  modelos.append(RandomForestClassifier())\n",
        "  nombres.append('Bosque Aleatorio')\n",
        "\n",
        "  return modelos, nombres"
      ],
      "metadata": {
        "id": "0ldklrjE3fNu"
      },
      "execution_count": 33,
      "outputs": []
    },
    {
      "cell_type": "markdown",
      "source": [
        "## Validación cruzada (parámetros estándar)"
      ],
      "metadata": {
        "id": "02o4GL4qzhQ5"
      }
    },
    {
      "cell_type": "code",
      "source": [
        "# Parámetros\n",
        "modelos, nombres = get_models()  # cargamos los modelos a comparar\n",
        "resultados = list()   \n",
        "\n",
        "for i in range(len(modelos)):\n",
        "  pipeline = Pipeline(steps=[('ct',columnasTransformer),('m',modelos[i])])\n",
        "  mi_kfold = RepeatedStratifiedKFold(n_splits = 5, n_repeats = 3, random_state= 7)\n",
        "  mismetricas = {'accuracy':make_scorer(mi_accuracy),\n",
        "                 'precision':make_scorer(mi_precision),\n",
        "                 'recall':make_scorer(mi_recall),\n",
        "                 'f1_score':make_scorer(mi_f1_score),\n",
        "                 'gmean':make_scorer(mi_gmean)\n",
        "                 }\n",
        "  resultados_temp = cross_validate(pipeline, X_train,np.ravel(y_train), scoring = mismetricas, cv = mi_kfold, return_train_score = True)\n",
        "  resultados.append(resultados_temp)\n",
        "  \n",
        "  print(str(nombres[i].upper())+'\\n')\n",
        "\n",
        "  # Imprimir resumen de validación cruizada para datos de entrenamiento\n",
        "  print('Métricas de entrenamiento \\n Accuracy promedio: %.3f (%.4f)\\n Precisión promedio: %.3f (%.4f)\\n Recall promedio: %.3f (%.4f)\\n F1-score promedio: %.3f (%.4f) \\n Gmean promedio: %.3f (%.4f)\\n' % (\n",
        "                                                                                                                    np.mean(resultados_temp['train_accuracy']),\n",
        "                                                                                                                    np.std(resultados_temp['train_accuracy']),\n",
        "                                                                                                                    np.mean(resultados_temp['train_precision']),\n",
        "                                                                                                                    np.std(resultados_temp['train_precision']), \n",
        "                                                                                                                    np.mean(resultados_temp['train_recall']),\n",
        "                                                                                                                    np.std(resultados_temp['train_recall']),\n",
        "                                                                                                                    np.mean(resultados_temp['train_f1_score']),\n",
        "                                                                                                                    np.std(resultados_temp['train_f1_score']),\n",
        "                                                                                                                    np.mean(resultados_temp['train_gmean']),\n",
        "                                                                                                                    np.std(resultados_temp['train_gmean']),  \n",
        "                                                                                                                    ))\n",
        "\n",
        "  # Imprimir resumen de validación cruizada para datos de validación\n",
        "  print('Métricas de validación\\n Accuracy promedio: %.3f (%.4f)\\n Precisión promedio: %.3f (%.4f)\\n Recall promedio: %.3f (%.4f)\\n F1-score promedio: %.3f (%.4f) \\n Gmean promedio: %.3f (%.4f)\\n ------------------- \\n' % (\n",
        "                                                                                                                    np.mean(resultados_temp['test_accuracy']),\n",
        "                                                                                                                    np.std(resultados_temp['test_accuracy']),\n",
        "                                                                                                                    np.mean(resultados_temp['test_precision']),\n",
        "                                                                                                                    np.std(resultados_temp['test_precision']), \n",
        "                                                                                                                    np.mean(resultados_temp['test_recall']),\n",
        "                                                                                                                    np.std(resultados_temp['test_recall']),\n",
        "                                                                                                                    np.mean(resultados_temp['test_f1_score']),\n",
        "                                                                                                                    np.std(resultados_temp['test_f1_score']),\n",
        "                                                                                                                    np.mean(resultados_temp['test_gmean']),\n",
        "                                                                                                                    np.std(resultados_temp['test_gmean']),  \n",
        "                                                                                                                    ))\n"
      ],
      "metadata": {
        "id": "RBVSFwK4C6g9",
        "colab": {
          "base_uri": "https://localhost:8080/"
        },
        "outputId": "ee1e1bf9-e8f0-4505-cbcf-dc9daa1cf54f"
      },
      "execution_count": 34,
      "outputs": [
        {
          "output_type": "stream",
          "name": "stderr",
          "text": [
            "/usr/local/lib/python3.7/dist-packages/sklearn/linear_model/_logistic.py:818: ConvergenceWarning: lbfgs failed to converge (status=1):\n",
            "STOP: TOTAL NO. of ITERATIONS REACHED LIMIT.\n",
            "\n",
            "Increase the number of iterations (max_iter) or scale the data as shown in:\n",
            "    https://scikit-learn.org/stable/modules/preprocessing.html\n",
            "Please also refer to the documentation for alternative solver options:\n",
            "    https://scikit-learn.org/stable/modules/linear_model.html#logistic-regression\n",
            "  extra_warning_msg=_LOGISTIC_SOLVER_CONVERGENCE_MSG,\n",
            "/usr/local/lib/python3.7/dist-packages/sklearn/linear_model/_logistic.py:818: ConvergenceWarning: lbfgs failed to converge (status=1):\n",
            "STOP: TOTAL NO. of ITERATIONS REACHED LIMIT.\n",
            "\n",
            "Increase the number of iterations (max_iter) or scale the data as shown in:\n",
            "    https://scikit-learn.org/stable/modules/preprocessing.html\n",
            "Please also refer to the documentation for alternative solver options:\n",
            "    https://scikit-learn.org/stable/modules/linear_model.html#logistic-regression\n",
            "  extra_warning_msg=_LOGISTIC_SOLVER_CONVERGENCE_MSG,\n",
            "/usr/local/lib/python3.7/dist-packages/sklearn/linear_model/_logistic.py:818: ConvergenceWarning: lbfgs failed to converge (status=1):\n",
            "STOP: TOTAL NO. of ITERATIONS REACHED LIMIT.\n",
            "\n",
            "Increase the number of iterations (max_iter) or scale the data as shown in:\n",
            "    https://scikit-learn.org/stable/modules/preprocessing.html\n",
            "Please also refer to the documentation for alternative solver options:\n",
            "    https://scikit-learn.org/stable/modules/linear_model.html#logistic-regression\n",
            "  extra_warning_msg=_LOGISTIC_SOLVER_CONVERGENCE_MSG,\n",
            "/usr/local/lib/python3.7/dist-packages/sklearn/linear_model/_logistic.py:818: ConvergenceWarning: lbfgs failed to converge (status=1):\n",
            "STOP: TOTAL NO. of ITERATIONS REACHED LIMIT.\n",
            "\n",
            "Increase the number of iterations (max_iter) or scale the data as shown in:\n",
            "    https://scikit-learn.org/stable/modules/preprocessing.html\n",
            "Please also refer to the documentation for alternative solver options:\n",
            "    https://scikit-learn.org/stable/modules/linear_model.html#logistic-regression\n",
            "  extra_warning_msg=_LOGISTIC_SOLVER_CONVERGENCE_MSG,\n",
            "/usr/local/lib/python3.7/dist-packages/sklearn/linear_model/_logistic.py:818: ConvergenceWarning: lbfgs failed to converge (status=1):\n",
            "STOP: TOTAL NO. of ITERATIONS REACHED LIMIT.\n",
            "\n",
            "Increase the number of iterations (max_iter) or scale the data as shown in:\n",
            "    https://scikit-learn.org/stable/modules/preprocessing.html\n",
            "Please also refer to the documentation for alternative solver options:\n",
            "    https://scikit-learn.org/stable/modules/linear_model.html#logistic-regression\n",
            "  extra_warning_msg=_LOGISTIC_SOLVER_CONVERGENCE_MSG,\n",
            "/usr/local/lib/python3.7/dist-packages/sklearn/linear_model/_logistic.py:818: ConvergenceWarning: lbfgs failed to converge (status=1):\n",
            "STOP: TOTAL NO. of ITERATIONS REACHED LIMIT.\n",
            "\n",
            "Increase the number of iterations (max_iter) or scale the data as shown in:\n",
            "    https://scikit-learn.org/stable/modules/preprocessing.html\n",
            "Please also refer to the documentation for alternative solver options:\n",
            "    https://scikit-learn.org/stable/modules/linear_model.html#logistic-regression\n",
            "  extra_warning_msg=_LOGISTIC_SOLVER_CONVERGENCE_MSG,\n",
            "/usr/local/lib/python3.7/dist-packages/sklearn/linear_model/_logistic.py:818: ConvergenceWarning: lbfgs failed to converge (status=1):\n",
            "STOP: TOTAL NO. of ITERATIONS REACHED LIMIT.\n",
            "\n",
            "Increase the number of iterations (max_iter) or scale the data as shown in:\n",
            "    https://scikit-learn.org/stable/modules/preprocessing.html\n",
            "Please also refer to the documentation for alternative solver options:\n",
            "    https://scikit-learn.org/stable/modules/linear_model.html#logistic-regression\n",
            "  extra_warning_msg=_LOGISTIC_SOLVER_CONVERGENCE_MSG,\n",
            "/usr/local/lib/python3.7/dist-packages/sklearn/linear_model/_logistic.py:818: ConvergenceWarning: lbfgs failed to converge (status=1):\n",
            "STOP: TOTAL NO. of ITERATIONS REACHED LIMIT.\n",
            "\n",
            "Increase the number of iterations (max_iter) or scale the data as shown in:\n",
            "    https://scikit-learn.org/stable/modules/preprocessing.html\n",
            "Please also refer to the documentation for alternative solver options:\n",
            "    https://scikit-learn.org/stable/modules/linear_model.html#logistic-regression\n",
            "  extra_warning_msg=_LOGISTIC_SOLVER_CONVERGENCE_MSG,\n",
            "/usr/local/lib/python3.7/dist-packages/sklearn/linear_model/_logistic.py:818: ConvergenceWarning: lbfgs failed to converge (status=1):\n",
            "STOP: TOTAL NO. of ITERATIONS REACHED LIMIT.\n",
            "\n",
            "Increase the number of iterations (max_iter) or scale the data as shown in:\n",
            "    https://scikit-learn.org/stable/modules/preprocessing.html\n",
            "Please also refer to the documentation for alternative solver options:\n",
            "    https://scikit-learn.org/stable/modules/linear_model.html#logistic-regression\n",
            "  extra_warning_msg=_LOGISTIC_SOLVER_CONVERGENCE_MSG,\n",
            "/usr/local/lib/python3.7/dist-packages/sklearn/linear_model/_logistic.py:818: ConvergenceWarning: lbfgs failed to converge (status=1):\n",
            "STOP: TOTAL NO. of ITERATIONS REACHED LIMIT.\n",
            "\n",
            "Increase the number of iterations (max_iter) or scale the data as shown in:\n",
            "    https://scikit-learn.org/stable/modules/preprocessing.html\n",
            "Please also refer to the documentation for alternative solver options:\n",
            "    https://scikit-learn.org/stable/modules/linear_model.html#logistic-regression\n",
            "  extra_warning_msg=_LOGISTIC_SOLVER_CONVERGENCE_MSG,\n",
            "/usr/local/lib/python3.7/dist-packages/sklearn/linear_model/_logistic.py:818: ConvergenceWarning: lbfgs failed to converge (status=1):\n",
            "STOP: TOTAL NO. of ITERATIONS REACHED LIMIT.\n",
            "\n",
            "Increase the number of iterations (max_iter) or scale the data as shown in:\n",
            "    https://scikit-learn.org/stable/modules/preprocessing.html\n",
            "Please also refer to the documentation for alternative solver options:\n",
            "    https://scikit-learn.org/stable/modules/linear_model.html#logistic-regression\n",
            "  extra_warning_msg=_LOGISTIC_SOLVER_CONVERGENCE_MSG,\n",
            "/usr/local/lib/python3.7/dist-packages/sklearn/linear_model/_logistic.py:818: ConvergenceWarning: lbfgs failed to converge (status=1):\n",
            "STOP: TOTAL NO. of ITERATIONS REACHED LIMIT.\n",
            "\n",
            "Increase the number of iterations (max_iter) or scale the data as shown in:\n",
            "    https://scikit-learn.org/stable/modules/preprocessing.html\n",
            "Please also refer to the documentation for alternative solver options:\n",
            "    https://scikit-learn.org/stable/modules/linear_model.html#logistic-regression\n",
            "  extra_warning_msg=_LOGISTIC_SOLVER_CONVERGENCE_MSG,\n",
            "/usr/local/lib/python3.7/dist-packages/sklearn/linear_model/_logistic.py:818: ConvergenceWarning: lbfgs failed to converge (status=1):\n",
            "STOP: TOTAL NO. of ITERATIONS REACHED LIMIT.\n",
            "\n",
            "Increase the number of iterations (max_iter) or scale the data as shown in:\n",
            "    https://scikit-learn.org/stable/modules/preprocessing.html\n",
            "Please also refer to the documentation for alternative solver options:\n",
            "    https://scikit-learn.org/stable/modules/linear_model.html#logistic-regression\n",
            "  extra_warning_msg=_LOGISTIC_SOLVER_CONVERGENCE_MSG,\n",
            "/usr/local/lib/python3.7/dist-packages/sklearn/linear_model/_logistic.py:818: ConvergenceWarning: lbfgs failed to converge (status=1):\n",
            "STOP: TOTAL NO. of ITERATIONS REACHED LIMIT.\n",
            "\n",
            "Increase the number of iterations (max_iter) or scale the data as shown in:\n",
            "    https://scikit-learn.org/stable/modules/preprocessing.html\n",
            "Please also refer to the documentation for alternative solver options:\n",
            "    https://scikit-learn.org/stable/modules/linear_model.html#logistic-regression\n",
            "  extra_warning_msg=_LOGISTIC_SOLVER_CONVERGENCE_MSG,\n",
            "/usr/local/lib/python3.7/dist-packages/sklearn/linear_model/_logistic.py:818: ConvergenceWarning: lbfgs failed to converge (status=1):\n",
            "STOP: TOTAL NO. of ITERATIONS REACHED LIMIT.\n",
            "\n",
            "Increase the number of iterations (max_iter) or scale the data as shown in:\n",
            "    https://scikit-learn.org/stable/modules/preprocessing.html\n",
            "Please also refer to the documentation for alternative solver options:\n",
            "    https://scikit-learn.org/stable/modules/linear_model.html#logistic-regression\n",
            "  extra_warning_msg=_LOGISTIC_SOLVER_CONVERGENCE_MSG,\n"
          ]
        },
        {
          "output_type": "stream",
          "name": "stdout",
          "text": [
            "REGRESIÓN LOGÍSTICA\n",
            "\n",
            "Métricas de entrenamiento \n",
            " Accuracy promedio: 0.797 (0.0070)\n",
            " Precisión promedio: 0.823 (0.0078)\n",
            " Recall promedio: 0.908 (0.0054)\n",
            " F1-score promedio: 0.864 (0.0042) \n",
            " Gmean promedio: 0.691 (0.0166)\n",
            "\n",
            "Métricas de validación\n",
            " Accuracy promedio: 0.763 (0.0313)\n",
            " Precisión promedio: 0.806 (0.0213)\n",
            " Recall promedio: 0.877 (0.0286)\n",
            " F1-score promedio: 0.840 (0.0216) \n",
            " Gmean promedio: 0.653 (0.0464)\n",
            " ------------------- \n",
            "\n",
            "ÁRBOL DE DECISIÓN\n",
            "\n",
            "Métricas de entrenamiento \n",
            " Accuracy promedio: 1.000 (0.0000)\n",
            " Precisión promedio: 1.000 (0.0000)\n",
            " Recall promedio: 1.000 (0.0000)\n",
            " F1-score promedio: 1.000 (0.0000) \n",
            " Gmean promedio: 1.000 (0.0000)\n",
            "\n",
            "Métricas de validación\n",
            " Accuracy promedio: 0.687 (0.0199)\n",
            " Precisión promedio: 0.784 (0.0200)\n",
            " Recall promedio: 0.771 (0.0390)\n",
            " F1-score promedio: 0.777 (0.0180) \n",
            " Gmean promedio: 0.607 (0.0421)\n",
            " ------------------- \n",
            "\n",
            "BOSQUE ALEATORIO\n",
            "\n",
            "Métricas de entrenamiento \n",
            " Accuracy promedio: 1.000 (0.0000)\n",
            " Precisión promedio: 1.000 (0.0000)\n",
            " Recall promedio: 1.000 (0.0000)\n",
            " F1-score promedio: 1.000 (0.0000) \n",
            " Gmean promedio: 1.000 (0.0000)\n",
            "\n",
            "Métricas de validación\n",
            " Accuracy promedio: 0.763 (0.0186)\n",
            " Precisión promedio: 0.788 (0.0164)\n",
            " Recall promedio: 0.910 (0.0227)\n",
            " F1-score promedio: 0.844 (0.0120) \n",
            " Gmean promedio: 0.606 (0.0445)\n",
            " ------------------- \n",
            "\n"
          ]
        }
      ]
    },
    {
      "cell_type": "code",
      "source": [
        "# Diagrama de caja y bigotes\n",
        "\n",
        "sns.set(rc={'figure.figsize':(8,4)})\n",
        "\n",
        "# Entrenamiento\n",
        "recall_r = list()\n",
        "for i in range(len(resultados)):\n",
        "  rr = resultados[i]['train_recall']\n",
        "  recall_r.append(rr)\n",
        "plt.boxplot(recall_r, labels = nombres, showmeans = True)\n",
        "plt.title('Eentrenamiento')\n",
        "plt.show()\n",
        "\n",
        "# Validación\n",
        "recall_r = list()\n",
        "for i in range(len(resultados)):\n",
        "  rr = resultados[i]['test_recall']\n",
        "  recall_r.append(rr)\n",
        "plt.boxplot(recall_r, labels = nombres, showmeans = True)\n",
        "plt.title('Validación')\n",
        "plt.show()"
      ],
      "metadata": {
        "id": "7KXnlNzAC69Y",
        "colab": {
          "base_uri": "https://localhost:8080/",
          "height": 551
        },
        "outputId": "b0e84841-a3f1-4824-bc29-7c7c5b4a81db"
      },
      "execution_count": 35,
      "outputs": [
        {
          "output_type": "display_data",
          "data": {
            "text/plain": [
              "<Figure size 576x288 with 1 Axes>"
            ],
            "image/png": "[encoded data removed]"
          },
          "metadata": {}
        },
        {
          "output_type": "display_data",
          "data": {
            "text/plain": [
              "<Figure size 576x288 with 1 Axes>"
            ],
            "image/png": "[encoded data removed]"
          },
          "metadata": {}
        }
      ]
    },
    {
      "cell_type": "code",
      "source": [],
      "metadata": {
        "id": "FP6QG-LQ8t_y"
      },
      "execution_count": null,
      "outputs": []
    },
    {
      "cell_type": "markdown",
      "source": [
        "#**Ejercicio-5.**"
      ],
      "metadata": {
        "id": "Rv7KFq-mC7PS"
      }
    },
    {
      "cell_type": "markdown",
      "source": [
        "# Incisos D y E"
      ],
      "metadata": {
        "id": "2YY5zygTwW_d"
      }
    },
    {
      "cell_type": "code",
      "source": [
        "# Conjuntos de validación y prueba\n",
        "# X_train, X_val, y_train, y_val\n",
        "\n",
        "# Estimador para GridSearchCV\n",
        "est = RandomForestClassifier()\n",
        "\n",
        "# Parametros para GridSearchCV\n",
        "# Los hiperparámetros que debes incluir en su búsqueda deben ser al menos los siguientes: ccp_alpha, criterion, max_depth, min_samples_split y class_weight\n",
        "param_grid = { \n",
        "    'ccp_alpha': [-2,-1,0,0.5,1,2],    \n",
        "    'max_depth' : [8,9,10,11,12,13,15],\n",
        "    'criterion' :['gini', 'entropy'],\n",
        "    'min_samples_split': [2,3,4,5,6,7,8],\n",
        "    'class_weight': ['balanced','balanced_subsample']\n",
        "}\n",
        "\n",
        "# Aplicamos GridSearchCV a Rfc\n",
        "CV_rfc = GridSearchCV(estimator=est, param_grid=param_grid, cv= 5)"
      ],
      "metadata": {
        "id": "wyDedooJRBUv"
      },
      "execution_count": 130,
      "outputs": []
    },
    {
      "cell_type": "code",
      "source": [
        "# Aplicamos nuestra transformación al conjunto de prueba\n",
        "Xx = columnasTransformer.fit_transform(X_train)"
      ],
      "metadata": {
        "id": "YZvDcQrmvfYG"
      },
      "execution_count": 151,
      "outputs": []
    },
    {
      "cell_type": "code",
      "source": [
        "# Medimos el modelo con GridSearchCV\n",
        "CV_rfc.fit(Xx, np.ravel(y_train))"
      ],
      "metadata": {
        "id": "H6wTgFAxsiUD",
        "outputId": "c8bf157f-4d7e-42f5-dee5-aaad107a1d55",
        "colab": {
          "base_uri": "https://localhost:8080/"
        }
      },
      "execution_count": 131,
      "outputs": [
        {
          "output_type": "stream",
          "name": "stderr",
          "text": [
            "/usr/local/lib/python3.7/dist-packages/sklearn/model_selection/_validation.py:372: FitFailedWarning: \n",
            "1960 fits failed out of a total of 5880.\n",
            "The score on these train-test partitions for these parameters will be set to nan.\n",
            "If these failures are not expected, you can try to debug them by setting error_score='raise'.\n",
            "\n",
            "Below are more details about the failures:\n",
            "--------------------------------------------------------------------------------\n",
            "1960 fits failed with the following error:\n",
            "Traceback (most recent call last):\n",
            "  File \"/usr/local/lib/python3.7/dist-packages/sklearn/model_selection/_validation.py\", line 680, in _fit_and_score\n",
            "    estimator.fit(X_train, y_train, **fit_params)\n",
            "  File \"/usr/local/lib/python3.7/dist-packages/sklearn/ensemble/_forest.py\", line 467, in fit\n",
            "    for i, t in enumerate(trees)\n",
            "  File \"/usr/local/lib/python3.7/dist-packages/joblib/parallel.py\", line 1085, in __call__\n",
            "    if self.dispatch_one_batch(iterator):\n",
            "  File \"/usr/local/lib/python3.7/dist-packages/joblib/parallel.py\", line 901, in dispatch_one_batch\n",
            "    self._dispatch(tasks)\n",
            "  File \"/usr/local/lib/python3.7/dist-packages/joblib/parallel.py\", line 819, in _dispatch\n",
            "    job = self._backend.apply_async(batch, callback=cb)\n",
            "  File \"/usr/local/lib/python3.7/dist-packages/joblib/_parallel_backends.py\", line 208, in apply_async\n",
            "    result = ImmediateResult(func)\n",
            "  File \"/usr/local/lib/python3.7/dist-packages/joblib/_parallel_backends.py\", line 597, in __init__\n",
            "    self.results = batch()\n",
            "  File \"/usr/local/lib/python3.7/dist-packages/joblib/parallel.py\", line 289, in __call__\n",
            "    for func, args, kwargs in self.items]\n",
            "  File \"/usr/local/lib/python3.7/dist-packages/joblib/parallel.py\", line 289, in <listcomp>\n",
            "    for func, args, kwargs in self.items]\n",
            "  File \"/usr/local/lib/python3.7/dist-packages/sklearn/utils/fixes.py\", line 216, in __call__\n",
            "    return self.function(*args, **kwargs)\n",
            "  File \"/usr/local/lib/python3.7/dist-packages/sklearn/ensemble/_forest.py\", line 185, in _parallel_build_trees\n",
            "    tree.fit(X, y, sample_weight=curr_sample_weight, check_input=False)\n",
            "  File \"/usr/local/lib/python3.7/dist-packages/sklearn/tree/_classes.py\", line 942, in fit\n",
            "    X_idx_sorted=X_idx_sorted,\n",
            "  File \"/usr/local/lib/python3.7/dist-packages/sklearn/tree/_classes.py\", line 157, in fit\n",
            "    raise ValueError(\"ccp_alpha must be greater than or equal to 0\")\n",
            "ValueError: ccp_alpha must be greater than or equal to 0\n",
            "\n",
            "  warnings.warn(some_fits_failed_message, FitFailedWarning)\n",
            "/usr/local/lib/python3.7/dist-packages/sklearn/model_selection/_search.py:972: UserWarning: One or more of the test scores are non-finite: [       nan        nan        nan ... 0.37411765 0.53882353 0.62588235]\n",
            "  category=UserWarning,\n"
          ]
        },
        {
          "output_type": "execute_result",
          "data": {
            "text/plain": [
              "GridSearchCV(cv=5, estimator=RandomForestClassifier(),\n",
              "             param_grid={'ccp_alpha': [-2, -1, 0, 0.5, 1, 2],\n",
              "                         'class_weight': ['balanced', 'balanced_subsample'],\n",
              "                         'criterion': ['gini', 'entropy'],\n",
              "                         'max_depth': [8, 9, 10, 11, 12, 13, 15],\n",
              "                         'min_samples_split': [2, 3, 4, 5, 6, 7, 8]})"
            ]
          },
          "metadata": {},
          "execution_count": 131
        }
      ]
    },
    {
      "cell_type": "code",
      "source": [
        "# Obtenemos la lista de mejores parámetros\n",
        "CV_rfc.best_params_"
      ],
      "metadata": {
        "id": "JDnoXAOVVHXL",
        "outputId": "5bae5421-350d-413e-a30b-74a8444805ea",
        "colab": {
          "base_uri": "https://localhost:8080/"
        }
      },
      "execution_count": 132,
      "outputs": [
        {
          "output_type": "execute_result",
          "data": {
            "text/plain": [
              "{'ccp_alpha': 0,\n",
              " 'class_weight': 'balanced',\n",
              " 'criterion': 'entropy',\n",
              " 'max_depth': 13,\n",
              " 'min_samples_split': 4}"
            ]
          },
          "metadata": {},
          "execution_count": 132
        }
      ]
    },
    {
      "cell_type": "code",
      "source": [
        "# Obtenemos el mejor score de GridSearchCV\n",
        "CV_rfc.best_score_"
      ],
      "metadata": {
        "id": "Ovas4xJRnRkN",
        "outputId": "1bb3411f-b5e9-4204-a90a-0123ff842637",
        "colab": {
          "base_uri": "https://localhost:8080/"
        }
      },
      "execution_count": 133,
      "outputs": [
        {
          "output_type": "execute_result",
          "data": {
            "text/plain": [
              "0.7823529411764705"
            ]
          },
          "metadata": {},
          "execution_count": 133
        }
      ]
    },
    {
      "cell_type": "code",
      "source": [
        "# Aplicamos nuestra transformación al conjunto de validación\n",
        "XxV = columnasTransformer.fit_transform(X_val)"
      ],
      "metadata": {
        "id": "8aPeIxzO1ZhD"
      },
      "execution_count": 142,
      "outputs": []
    },
    {
      "cell_type": "code",
      "source": [
        "CV_rfc.score(XxV, np.ravel(y_val))"
      ],
      "metadata": {
        "id": "GC-UfmFoUQ2e",
        "outputId": "e83b5338-157a-4210-c4d5-66280fb73371",
        "colab": {
          "base_uri": "https://localhost:8080/"
        }
      },
      "execution_count": 143,
      "outputs": [
        {
          "output_type": "execute_result",
          "data": {
            "text/plain": [
              "0.7466666666666667"
            ]
          },
          "metadata": {},
          "execution_count": 143
        }
      ]
    },
    {
      "cell_type": "code",
      "source": [
        "# Construimos RandomForest con los parámetros sugeridos\n",
        "rfc2 = RandomForestClassifier(     ccp_alpha=0,\n",
        "                                   class_weight='balanced',\n",
        "                                   criterion='entropy',   # métrica para determinar las ramas. También puede ser: 'entropy', para la GananciaDeInformación (IG).\n",
        "                                   max_depth=13, # Depth=k : máximo 2^k líneas/ramas.        \n",
        "                                   min_samples_split = 4,  # mínimo de puntos muestrales requeridos en un nodo para hacer la ramificación. Puede ser fracción de 0 a 1.                                   \n",
        "                                   bootstrap=True,  # Cada Árbol se muestrea seleccionando la cantidad de datos del conjunto de entrenamiento, pero con reemplazo. False:los datos usados en cada árbol simpre es el mismo, el Train-set.\n",
        "                                   oob_score=True  # en caso de utilizar Out-of-bag samples.                                   \n",
        "                                   ,random_state=19\n",
        "                              )   "
      ],
      "metadata": {
        "id": "4tQxQROVC9Us"
      },
      "execution_count": 144,
      "outputs": []
    },
    {
      "cell_type": "code",
      "source": [
        "# Medimos el modelo con nuestros datos previamente transformados\n",
        "clf2 = rfc2.fit(Xx, np.ravel(y_train))"
      ],
      "metadata": {
        "id": "in5P78riv9uQ"
      },
      "execution_count": 152,
      "outputs": []
    },
    {
      "cell_type": "code",
      "source": [
        "print(\"Score promedio: %.3f\" % clf2.score(XxV, np.ravel(y_val)))  # es la Exactitud (accuracy)"
      ],
      "metadata": {
        "id": "9vXJf1ELPgcn",
        "outputId": "b7bf6f84-22cc-4050-82a3-4f97bc7235ab",
        "colab": {
          "base_uri": "https://localhost:8080/"
        }
      },
      "execution_count": 153,
      "outputs": [
        {
          "output_type": "stream",
          "name": "stdout",
          "text": [
            "Score promedio: 0.733\n"
          ]
        }
      ]
    },
    {
      "cell_type": "code",
      "source": [
        "y_pred = clf2.predict(XxV)\n",
        "print(\"Recall promedio: %.3f\" % mi_recall(y_val,y_pred))"
      ],
      "metadata": {
        "id": "v-GYk20ciEuZ",
        "outputId": "5cc9c747-7ae8-4e24-b175-8e1ed97eb8b3",
        "colab": {
          "base_uri": "https://localhost:8080/"
        }
      },
      "execution_count": 155,
      "outputs": [
        {
          "output_type": "stream",
          "name": "stdout",
          "text": [
            "Recall promedio: 0.827\n"
          ]
        }
      ]
    },
    {
      "cell_type": "markdown",
      "source": [
        "#**Ejercicio-6.**"
      ],
      "metadata": {
        "id": "W2S7LI0NC9wE"
      }
    },
    {
      "cell_type": "code",
      "source": [
        "None"
      ],
      "metadata": {
        "id": "x6uBleJUC_AU"
      },
      "execution_count": null,
      "outputs": []
    },
    {
      "cell_type": "code",
      "source": [],
      "metadata": {
        "id": "n0P_AcyjC_Dh"
      },
      "execution_count": null,
      "outputs": []
    },
    {
      "cell_type": "markdown",
      "source": [
        "###**Fin de la Actividad de la semana 6.**"
      ],
      "metadata": {
        "id": "7ql_r2G-DB_m"
      }
    }
  ]
}